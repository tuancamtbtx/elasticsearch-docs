{
  "nbformat": 4,
  "nbformat_minor": 0,
  "metadata": {
    "colab": {
      "name": "Copy of Lab03-WebCrawler.ipynb",
      "provenance": [],
      "collapsed_sections": [],
      "toc_visible": true
    },
    "kernelspec": {
      "display_name": "Python 3",
      "language": "python",
      "name": "python3"
    },
    "language_info": {
      "codemirror_mode": {
        "name": "ipython",
        "version": 3
      },
      "file_extension": ".py",
      "mimetype": "text/x-python",
      "name": "python",
      "nbconvert_exporter": "python",
      "pygments_lexer": "ipython3",
      "version": "3.9.1"
    }
  },
  "cells": [
    {
      "cell_type": "code",
      "metadata": {
        "id": "FJktAwbCOyod"
      },
      "source": [
        "import requests\n",
        "import re\n",
        "from bs4 import BeautifulSoup\n",
        "from bs4.element import Comment\n",
        "import string\n",
        "import pickle"
      ],
      "execution_count": 2,
      "outputs": []
    },
    {
      "cell_type": "code",
      "metadata": {
        "id": "4HFWqw1VOrEe"
      },
      "source": [
        "def get_url_in_response(text):\n",
        "    urls = []\n",
        "    urls = re.findall('https?://(?:[-\\w.]|(?:%[\\da-fA-F]{2}))+', text)\n",
        "    return urls\n",
        "\n",
        "def get_urls(url):\n",
        "    urls = []\n",
        "    try:\n",
        "        r = requests.get(url, verify=False, timeout=2)\n",
        "        # TODO\n",
        "        # Lấy các url nằm trong trang web của url này, lưu lại vào biến urls\n",
        "        urls = get_url_in_response(r.text)\n",
        "        return urls\n",
        "    except:\n",
        "        print(\"An exception occurred\")\n",
        "        return []\n",
        "\n",
        "\n",
        "def insert_url_into_arr(urls, new_urls, limit):\n",
        "    count = 0;\n",
        "    for url in new_urls:\n",
        "        if count == limit:\n",
        "            break\n",
        "        if url not in urls:\n",
        "            urls.append(url)\n",
        "        count += 1\n",
        "    return urls\n",
        "\n",
        "def get_urls_recursive(start_url, limit):\n",
        "    urls = [start_url]\n",
        "    tmp_list = []\n",
        "    for url in urls:\n",
        "        if url not in tmp_list:\n",
        "            tmp_list.append(url)\n",
        "            new_urls = get_urls(url)\n",
        "            if len(new_urls) > 0:\n",
        "                insert_url_into_arr(urls,new_urls,limit )\n",
        "            print(len(urls))\n",
        "        if len(urls) > 200:\n",
        "            return urls[0:200]\n",
        "    return urls\n",
        "url_list = get_urls_recursive('https://en.wikipedia.org/wiki/Web_mining', 200)\n",
        "# print(url_list)"
      ],
      "execution_count": 3,
      "outputs": [
        {
          "output_type": "stream",
          "name": "stdout",
          "text": [
            "42\n",
            "92\n",
            "98\n",
            "98\n",
            "An exception occurred\n",
            "98\n",
            "105\n",
            "108\n",
            "114\n",
            "118\n",
            "121\n",
            "125\n",
            "An exception occurred\n",
            "125\n",
            "125\n",
            "134\n",
            "156\n",
            "164\n",
            "176\n",
            "182\n",
            "185\n",
            "186\n",
            "186\n",
            "187\n",
            "304\n",
            "['https://en.wikipedia.org/wiki/Web_mining', 'https://en.wikipedia.org', 'https://archive.org', 'http://alexandria.tue.nl', 'http://www.cis.unisa.edu.au', 'https://ieeexplore.ieee.org', 'https://doi.org', 'https://api.semanticscholar.org', 'https://docs.google.com', 'https://ui.adsabs.harvard.edu', 'http://library.ifla.org', 'http://soave.isti.cnr.it', 'http://facweb.cs.depaul.edu', 'https://link.springer.com', 'http://robotics.stanford.edu', 'http://informationr.net', 'https://www.researchgate.net', 'http://dmr.cs.umn.edu', 'http://webmining.spd.louisville.edu', 'http://www.chris-kimble.com', 'http://csdl2.computer.org', 'https://donate.wikimedia.org', 'https://www.wikidata.org', 'https://ar.wikipedia.org', 'https://de.wikipedia.org', 'https://es.wikipedia.org', 'https://eu.wikipedia.org', 'https://fa.wikipedia.org', 'https://fr.wikipedia.org', 'https://ko.wikipedia.org', 'https://hi.wikipedia.org', 'https://hr.wikipedia.org', 'https://hu.wikipedia.org', 'https://ja.wikipedia.org', 'https://pt.wikipedia.org', 'https://ru.wikipedia.org', 'https://sk.wikipedia.org', 'https://th.wikipedia.org', 'https://foundation.wikimedia.org', 'https://www.mediawiki.org', 'https://stats.wikimedia.org', 'https://wikimediafoundation.org', 'https://upload.wikimedia.org', 'https://en.wiktionary.org', 'https://lists.wikimedia.org', 'https://commons.wikimedia.org', 'https://meta.wikimedia.org', 'https://en.wikibooks.org', 'https://en.wikinews.org', 'https://en.wikiquote.org', 'https://en.wikisource.org', 'https://species.wikimedia.org', 'https://en.wikiversity.org', 'https://en.wikivoyage.org', 'https://it.wikipedia.org', 'https://nl.wikipedia.org', 'https://pl.wikipedia.org', 'https://sv.wikipedia.org', 'https://uk.wikipedia.org', 'https://vi.wikipedia.org', 'https://zh.wikipedia.org', 'https://id.wikipedia.org', 'https://ms.wikipedia.org', 'https://zh-min-nan.wikipedia.org', 'https://bg.wikipedia.org', 'https://ca.wikipedia.org', 'https://cs.wikipedia.org', 'https://da.wikipedia.org', 'https://eo.wikipedia.org', 'https://he.wikipedia.org', 'https://no.wikipedia.org', 'https://ro.wikipedia.org', 'https://sr.wikipedia.org', 'https://sh.wikipedia.org', 'https://fi.wikipedia.org', 'https://tr.wikipedia.org', 'https://ast.wikipedia.org', 'https://bs.wikipedia.org', 'https://et.wikipedia.org', 'https://el.wikipedia.org', 'https://simple.wikipedia.org', 'https://gl.wikipedia.org', 'https://lv.wikipedia.org', 'https://lt.wikipedia.org', 'https://ml.wikipedia.org', 'https://mk.wikipedia.org', 'https://nn.wikipedia.org', 'https://sl.wikipedia.org', 'https://wikisource.org', 'https://wikimania.wikimedia.org', 'https://bn.wikipedia.org', 'https://ka.wikipedia.org', 'http://www.gnu.org', 'http://archive.org', 'http://blog.archive.org', 'http://www.w3.org', 'https://blog.archive.org', 'https://web.archive.org', 'https://www.ieee.org', 'https://cdnjs.cloudflare.com', 'https://cdn.jwplayer.com', 'http://ieeexplore.ieee.org', 'http://www.ieee.org', 'https://ieee-collabratec.ieee.org', 'http://s7.addthis.com', 'https://dx.doi.org', 'https://doi.statuspage.io', 'http://the-acap.org', 'https://fonts.googleapis.com', 'https://www.semanticscholar.org', 'https://pages.semanticscholar.org', 'https://pdfs.semanticscholar.org', 'https://allenai.org', 'https://www.googletagmanager.com', 'https://ssl.gstatic.com', 'https://accounts.google.com', 'https://www.google.com', 'http://www.google.com', 'http://a9.com', 'http://schema.org', 'https://ui.absads.harvard.edu', 'http://www.ifla.org', 'https://ifla.org', 'http://www.openarchives.org', 'http://ifla.org', 'https://cdn.cookielaw.org', 'https://static-content.springer.com', 'http://www.springer.com', 'http://www.springerprotocols.com', 'http://materials.springer.com', 'http://adis.springer.com', 'https://www.springernature.com', 'https://s3.amazonaws.com', 'https://springeronlineservice.freshdesk.com', 'https://ai.stanford.edu', 'https://yoast.com', 'https://schema.org', 'https://api.w.org', 'https://www.onr.navy.mil', 'https://aamas2021.soton.ac.uk', 'https://www.amacad.org', 'https://iclr-conf.medium.com', 'https://hai.stanford.edu', 'https://sigai.acm.org', 'https://twitter.com', 'https://pbs.twimg.com', 'http://ai.stanford.edu', 'https://news.stanford.edu', 'https://thegradientpub.substack.com', 'http://www.stanford.edu', 'https://www.stanford.edu', 'https://visit.stanford.edu', 'https://emergency.stanford.edu', 'https://uit.stanford.edu', 'https://adminguide.stanford.edu', 'http://exploredegrees.stanford.edu', 'http://creativecommons.org', 'http://pile.lub.lu.se', 'http://www.hb.se', 'https://www.vr.se', 'http://www.informationr.net', 'http://www.google.co.uk', 'http://3695.hittail.com', 'http://www.google-analytics.com', 'https://c5.rgstatic.net', 'http://oexchange.org', 'https://quantcast.mgr.consensu.org', 'https://static.quantcast.mgr.consensu.org', 'https://i1.rgstatic.net', 'https://securepubads.g.doubleclick.net', 'https://www.google-analytics.com', 'https://www.facebook.com', 'https://plus.google.com', 'https://www.linkedin.com', 'https://pubads.g.doubleclick.net', 'http://www.enable-javascript.com', 'http://www.cs.umn.edu', 'http://www.umn.edu', 'http://onestop.umn.edu', 'http://search.umn.edu', 'http://www.it.umn.edu', 'http://www.privacy.umn.edu', 'http://ogp.me', 'http://gmpg.org', 'http://themes.bavotasan.com', 'https://apis.google.com', 'https://collab.wikimedia.org', 'https://creativecommons.org', 'https://web.libera.chat', 'https://www.quora.com', 'https://t.me', 'https://incubator.wikimedia.org', 'https://aa.wikipedia.org', 'https://ab.wikipedia.org', 'https://ace.wikipedia.org', 'https://ady.wikipedia.org', 'https://af.wikipedia.org', 'https://ak.wikipedia.org', 'https://als.wikipedia.org', 'https://alt.wikipedia.org']\n"
          ]
        }
      ]
    },
    {
      "cell_type": "markdown",
      "metadata": {
        "id": "zk4ty3jcRryx"
      },
      "source": [
        "## 2. Thu thập dữ liệu\n",
        "Thu thập dữ liệu từ `url_list`. Lưu trữ dữ liệu thu được vào dictionary data với keys là các từ, values gồm 2 phần tử: \n",
        "- `url_idx_list` với $idx \\in \\left[0,200\\right) \\cap \\mathbb{N}$\n",
        "- `frequency` \n",
        "    \n",
        "Ví dụ: `data['at']=[url_idx_list,frequency]`:\n",
        "- `url_idx_list`: danh sách các url mà trong dữ liệu của chúng (html document) chứa từ \"at\". \n",
        "- `frequency`: tần suất xuất hiện (số lần xuất hiện) của từ `at` trong dữ liệu của **tất cả đường dẫn thu được**.   "
      ]
    },
    {
      "cell_type": "code",
      "metadata": {
        "id": "YB5nIZAhQr7-"
      },
      "source": [
        "def text_filter(element):\n",
        "    if element.parent.name in ['style', 'title', 'script', 'head', '[document]', 'class', 'a', 'li']:\n",
        "        return False\n",
        "    elif isinstance(element, Comment):\n",
        "        '''Opinion mining?'''\n",
        "        return False\n",
        "    elif re.match(r\"[\\s\\r\\n]+\",str(element)): \n",
        "        '''space, return, endline'''\n",
        "        return False\n",
        "    return True\n",
        "\n",
        "def wordList(url):\n",
        "    r =  None\n",
        "    try:\n",
        "        r = requests.get(url)\n",
        "    except:\n",
        "        print(\"An exception occurred\")\n",
        "    if r == None:\n",
        "        return \n",
        "    soup = BeautifulSoup(r.content, \"html.parser\")\n",
        "    text = soup.findAll(text=True)\n",
        "    filtered_text = list(filter(text_filter, text)) # list của các chuỗi\n",
        "    word_list = []\n",
        "    # print(text)\n",
        "    translator = str.maketrans('', '', string.punctuation)\n",
        "    for i in range(len(filtered_text)):\n",
        "        text_trans = filtered_text[i].translate(translator).strip()\n",
        "        text_split = text_trans.split(\" \")\n",
        "        for j in range(len(text_split)):\n",
        "            if len(text_split[j]) != 0:\n",
        "                word_list.append(text_split[j])\n",
        "    return ' '.join([str(elem) for elem in word_list])\n",
        "\n",
        "def read_url(url, url_idx, data):\n",
        "    word_list = wordList(url)\n",
        "    print(word_list)\n",
        "    # if word_list == None:\n",
        "    #     return\n",
        "    # # Với mỗi từ w trong word_list:\n",
        "    # for i in range(len(word_list)):\n",
        "    #     word = word_list[i]\n",
        "    #     if word in data.keys():\n",
        "    #         item = data.get(word)\n",
        "    #         data[word][1] = data[word][1] + 1\n",
        "    #         if url_idx not in data[word][0]:\n",
        "    #             data[word][0].append(url_idx)\n",
        "    #     else:\n",
        "    #         item = []\n",
        "    #         item.append([url_idx]) # data[w]\n",
        "    #         item.append(1)\n",
        "    #         data[word_list[i]] = item"
      ],
      "execution_count": 15,
      "outputs": []
    },
    {
      "cell_type": "code",
      "metadata": {
        "id": "LrPuiiDhQfrJ",
        "tags": []
      },
      "source": [
        "data = {}\n",
        "for url_index, url in enumerate(url_list[:1], 1):\n",
        "    read_url(url, url_index, data)"
      ],
      "execution_count": 16,
      "outputs": [
        {
          "output_type": "stream",
          "name": "stdout",
          "text": [
            "{33: None, 34: None, 35: None, 36: None, 37: None, 38: None, 39: None, 40: None, 41: None, 42: None, 43: None, 44: None, 45: None, 46: None, 47: None, 58: None, 59: None, 60: None, 61: None, 62: None, 63: None, 64: None, 91: None, 92: None, 93: None, 94: None, 95: None, 96: None, 123: None, 124: None, 125: None, 126: None}\n['Web', 'mining', 'From', 'Wikipedia', 'the', 'free', 'encyclopedia', 'This', 'article', 'includes', 'a', 'related', 'reading', 'or', 'but', 'its', 'sources', 'remain', 'unclear', 'because', 'it', 'lacks', 'October', '2020', 'This', 'article', 'may', 'require', 'The', 'specific', 'problem', 'is', 'The', 'article', 'needs', 'sufficient', 'inline', 'references', 'and', 'a', 'complete', 'rewrite', 'has', 'been', 'proposed', 'October', '2020', 'Web', 'mining', 'It', 'uses', 'automated', 'methods', 'to', 'extract', 'both', 'structured', 'and', 'unstructured', 'data', 'from', 'web', 'pages', 'server', 'logs', 'and', 'link', 'structures', 'There', 'are', 'three', 'main', 'subcategories', 'of', 'web', 'mining', 'Contents', '1', 'Web', 'mining', 'types', '2', 'Web', 'usage', 'mining', '21', 'Pros', '22', 'Cons', '3', 'Web', 'structure', 'mining', '4', 'Web', 'content', 'mining', '41', 'Web', 'content', 'mining', 'in', 'foreign', 'languages', '411', 'Chinese', '5', 'See', 'also', '6', 'References', '61', 'Books', '62', 'Bibliographic', 'references', 'Web', 'mining', 'types', 'Web', 'mining', 'can', 'be', 'divided', 'into', 'three', 'different', 'types', '–', 'Web', 'usage', 'mining', 'Web', 'content', 'mining', 'Web', 'structure', 'mining', 'The', 'general', 'relationship', 'between', 'the', 'categories', 'of', 'Web', 'mining', 'and', 'objectives', 'of', 'data', 'mining', 'Comparison', 'Web', 'content', 'mining', 'Web', 'structure', 'mining', 'Web', 'usage', 'mining', 'IR', 'view', 'DB', 'view', 'View', 'of', 'data', 'Main', 'data', 'Representation', 'Method', 'Application', 'categories', 'Web', 'usage', 'mining', 'Web', 'usage', 'mining', 'is', 'the', 'application', 'of', 'Usage', 'data', 'captures', 'the', 'identity', 'or', 'origin', 'of', 'Web', 'users', 'along', 'with', 'their', 'browsing', 'behavior', 'at', 'a', 'Web', 'site', 'Web', 'usage', 'mining', 'itself', 'can', 'be', 'classified', 'further', 'depending', 'on', 'the', 'kind', 'of', 'usage', 'data', 'considered', 'Web', 'server', 'data', 'Application', 'server', 'data', 'Application', 'level', 'data', 'Studies', 'related', 'to', 'work', 'Pros', 'Web', 'usage', 'mining', 'essentially', 'has', 'many', 'advantages', 'which', 'makes', 'this', 'technology', 'attractive', 'to', 'corporations', 'including', 'government', 'agencies', 'This', 'technology', 'has', 'enabled', 'which', 'eventually', 'results', 'in', 'higher', 'trade', 'volumes', 'Government', 'agencies', 'are', 'using', 'this', 'technology', 'to', 'classify', 'threats', 'and', 'The', 'predicting', 'capability', 'of', 'mining', 'applications', 'can', 'benefit', 'society', 'by', 'identifying', 'criminal', 'activities', 'Companies', 'can', 'establish', 'better', 'More', 'benefits', 'of', 'web', 'usage', 'mining', 'particularly', 'in', 'the', 'area', 'of', 'are', 'outlined', 'in', 'specific', 'frameworks', 'such', 'as', 'the', 'Cons', 'Web', 'usage', 'mining', 'by', 'itself', 'does', 'not', 'create', 'issues', 'but', 'this', 'technology', 'when', 'used', 'on', 'Privacy', 'is', 'considered', 'lost', 'when', 'information', 'concerning', 'an', 'individual', 'is', 'obtained', 'used', 'or', 'disseminated', 'especially', 'if', 'this', 'occurs', 'without', 'the', 'individuals', 'knowledge', 'or', 'consent', 'then', 'Another', 'important', 'concern', 'is', 'that', 'the', 'companies', 'collecting', 'the', 'data', 'for', 'a', 'specific', 'purpose', 'might', 'use', 'the', 'data', 'for', 'totally', 'different', 'purposes', 'and', 'this', 'essentially', 'violates', 'the', 'users', 'interests', 'The', 'growing', 'trend', 'of', 'selling', 'personal', 'data', 'as', 'a', 'commodity', 'encourages', 'website', 'owners', 'to', 'trade', 'personal', 'data', 'obtained', 'from', 'their', 'site', 'This', 'trend', 'has', 'increased', 'the', 'amount', 'of', 'data', 'being', 'captured', 'and', 'traded', 'increasing', 'the', 'likeliness', 'of', 'ones', 'privacy', 'being', 'invaded', 'The', 'companies', 'which', 'buy', 'the', 'data', 'are', 'obliged', 'make', 'it', 'anonymous', 'and', 'these', 'companies', 'are', 'considered', 'authors', 'of', 'any', 'specific', 'release', 'of', 'mining', 'patterns', 'They', 'are', 'legally', 'responsible', 'for', 'the', 'contents', 'of', 'the', 'release', 'any', 'inaccuracies', 'in', 'the', 'release', 'will', 'result', 'in', 'serious', 'lawsuits', 'but', 'there', 'is', 'no', 'law', 'preventing', 'them', 'from', 'trading', 'the', 'data', 'Some', 'mining', 'algorithms', 'might', 'use', 'controversial', 'attributes', 'like', 'sex', 'race', 'religion', 'or', 'sexual', 'orientation', 'to', 'categorize', 'individuals', 'These', 'practices', 'might', 'be', 'against', 'the', 'antidiscrimination', 'legislation', 'Web', 'structure', 'mining', 'This', 'section', 'needs', 'expansion', 'You', 'can', 'help', 'by', 'June', '2015', 'This', 'section', 'is', 'in', 'if', 'appropriate', 'October', '2020', 'Web', 'structure', 'mining', 'uses', 'Web', 'structure', 'mining', 'terminology', 'An', 'example', 'of', 'a', 'techniques', 'of', 'web', 'structure', 'mining', 'is', 'the', 'Web', 'content', 'mining', 'Web', 'content', 'mining', 'is', 'the', 'mining', 'extraction', 'and', 'integration', 'of', 'useful', 'data', 'information', 'and', 'knowledge', 'from', 'Web', 'page', 'content', 'The', 'heterogeneity', 'and', 'the', 'and', 'others', 'provide', 'some', 'comfort', 'to', 'users', 'but', 'they', 'do', 'not', 'generally', 'provide', 'structural', 'information', 'nor', 'categorize', 'filter', 'or', 'interpret', 'documents', 'These', 'factors', 'have', 'prompted', 'researchers', 'to', 'develop', 'more', 'intelligent', 'tools', 'for', 'such', 'as', 'intelligent', 'as', 'well', 'as', 'to', 'extend', 'database', 'and', 'data', 'mining', 'techniques', 'to', 'provide', 'a', 'higher', 'level', 'of', 'organization', 'for', 'Web', 'content', 'mining', 'is', 'differentiated', 'from', 'two', 'different', 'points', 'of', 'view', 'There', 'are', 'several', 'ways', 'to', 'represent', 'documents', 'By', 'multiscanning', 'the', 'document', 'we', 'can', 'implement', 'feature', 'selection', 'Under', 'the', 'condition', 'that', 'the', 'category', 'result', 'is', 'rarely', 'affected', 'the', 'extraction', 'of', 'feature', 'subset', 'is', 'needed', 'The', 'general', 'algorithm', 'is', 'to', 'construct', 'an', 'evaluating', 'function', 'to', 'evaluate', 'the', 'features', 'As', 'feature', 'set', 'and', 'Web', 'mining', 'can', 'complement', 'the', 'retrieval', 'of', 'an', 'example', 'is', 'the', 'aggregation', 'of', 'works', 'from', 'academic', 'publications', 'Web', 'content', 'mining', 'in', 'foreign', 'languages', 'Chinese', 'The', 'one', 'needs', 'to', 'identify', 'the', 'code', 'standard', 'of', 'the', 'HTML', 'documents', 'and', 'transform', 'it', 'into', 'inner', 'code', 'then', 'use', 'other', 'data', 'mining', 'techniques', 'to', 'find', 'useful', 'knowledge', 'and', 'useful', 'patterns', 'See', 'also', 'References', 'Weichbroth', 'et', 'al', 'Ngu', 'Anne', 'Kitsuregawa', 'Masaru', 'Chung', 'JenYao', 'Neuhold', 'Erich', 'Sheng', 'Quan', '2005', 'Web', 'Information', 'Systems', 'Engineering', '–', 'WISE', '2005', 'Berlin', 'Springer', 'pp', '9783540300175', 'Bauknecht', 'Kurt', 'Madria', 'Sanjay', 'Pernul', 'Gunther', '2000', 'Electronic', 'Commerce', 'and', 'Web', 'Technologies', 'First', 'International', 'Conference', 'ECWeb', '2000', 'London', 'UK', 'September', '46', '2000', 'Proceedings', 'Berlin', 'Springer', 'pp', '9783540679813', 'Scime', 'Anthony', '2005', 'Web', 'Mining', 'Applications', 'and', 'Techniques', 'Hershey', 'PA', 'Idea', 'Group', 'Publishing', 'pp', '9781591404149', 'a', 'b', 'c', 'Lita', 'van', 'Wel', 'Lambèr', 'Royakkers', '2004', 'PDF', 'Ethical', 'Issues', 'in', 'Web', 'Data', 'Mining', 'Kirsten', 'Maelstrom', 'John', 'F', 'Rodrick', 'Vladimir', 'EstivillCastro', 'Denise', 'de', 'Vries', '2007', 'PDF', 'Legal', 'and', 'Technical', 'Issues', 'of', 'Privacy', 'Preservation', 'in', 'Data', 'Mining', 'Annamoradnejad', 'R', 'Annamoradnejad', 'I', 'Safarrad', 'T', 'Habibi', 'J', '20190420', '2019', '5th', 'International', 'Conference', 'on', 'Web', 'Research', 'ICWR', '55–60', '9781728114316', 'Wang', 'Yan', 'Kosala', 'Raymond', 'Hendrik', 'Blockeel', 'July', '2000', 'Web', 'Mining', 'Research', 'A', 'Survey', 'SIGKDD', 'Explorations', '2', 'Speirs', 'Martha', 'A', '2013', 'Cite', 'journal', 'requires', 'journal', 'Dhakal', 'Kerry', '15', 'April', '2019', 'Journal', 'of', 'the', 'Medical', 'Library', 'Association', '107', 'Books', 'Bibliographic', 'references', 'Retrieved', 'from', 'Hidden', 'categories', 'Navigation', 'menu', 'Personal', 'tools', 'Namespaces', 'Variants', 'Views', 'More', 'Search', 'Navigation', 'Contribute', 'Tools', 'Printexport', 'Languages']\n"
          ]
        }
      ]
    },
    {
      "cell_type": "markdown",
      "metadata": {
        "id": "740eXy7pRryx"
      },
      "source": [
        "## 3. Tiền xử lý\n",
        "Loại bỏ các item trong data mà key là các stopword.\n",
        "\n",
        "**Ngữ liệu:** "
      ]
    },
    {
      "cell_type": "code",
      "metadata": {
        "id": "hC58K3Q3Rryy",
        "colab": {
          "base_uri": "https://localhost:8080/"
        },
        "outputId": "99a20ea5-89c3-4d93-c74f-e43636b9b1cf"
      },
      "source": [
        "import nltk\n",
        "nltk.download('stopwords')\n",
        "from nltk.corpus import stopwords\n",
        "english_stopwords = stopwords.words('english')\n",
        "print(english_stopwords)"
      ],
      "execution_count": 15,
      "outputs": [
        {
          "output_type": "stream",
          "name": "stdout",
          "text": [
            "['i', 'me', 'my', 'myself', 'we', 'our', 'ours', 'ourselves', 'you', \"you're\", \"you've\", \"you'll\", \"you'd\", 'your', 'yours', 'yourself', 'yourselves', 'he', 'him', 'his', 'himself', 'she', \"she's\", 'her', 'hers', 'herself', 'it', \"it's\", 'its', 'itself', 'they', 'them', 'their', 'theirs', 'themselves', 'what', 'which', 'who', 'whom', 'this', 'that', \"that'll\", 'these', 'those', 'am', 'is', 'are', 'was', 'were', 'be', 'been', 'being', 'have', 'has', 'had', 'having', 'do', 'does', 'did', 'doing', 'a', 'an', 'the', 'and', 'but', 'if', 'or', 'because', 'as', 'until', 'while', 'of', 'at', 'by', 'for', 'with', 'about', 'against', 'between', 'into', 'through', 'during', 'before', 'after', 'above', 'below', 'to', 'from', 'up', 'down', 'in', 'out', 'on', 'off', 'over', 'under', 'again', 'further', 'then', 'once', 'here', 'there', 'when', 'where', 'why', 'how', 'all', 'any', 'both', 'each', 'few', 'more', 'most', 'other', 'some', 'such', 'no', 'nor', 'not', 'only', 'own', 'same', 'so', 'than', 'too', 'very', 's', 't', 'can', 'will', 'just', 'don', \"don't\", 'should', \"should've\", 'now', 'd', 'll', 'm', 'o', 're', 've', 'y', 'ain', 'aren', \"aren't\", 'couldn', \"couldn't\", 'didn', \"didn't\", 'doesn', \"doesn't\", 'hadn', \"hadn't\", 'hasn', \"hasn't\", 'haven', \"haven't\", 'isn', \"isn't\", 'ma', 'mightn', \"mightn't\", 'mustn', \"mustn't\", 'needn', \"needn't\", 'shan', \"shan't\", 'shouldn', \"shouldn't\", 'wasn', \"wasn't\", 'weren', \"weren't\", 'won', \"won't\", 'wouldn', \"wouldn't\"]\n",
            "[nltk_data] Downloading package stopwords to\n",
            "[nltk_data]     /Users/lap01566/nltk_data...\n",
            "[nltk_data]   Unzipping corpora/stopwords.zip.\n"
          ]
        }
      ]
    },
    {
      "cell_type": "code",
      "metadata": {
        "id": "cylo7trpRnun",
        "tags": [
          "outputPrepend"
        ]
      },
      "source": [
        "# TODO\n",
        "# Loại bỏ các key của biến data mà nằm trong danh sách english_stopwords\n",
        "test_data = data\n",
        "for stop in english_stopwords:\n",
        "    if stop in test_data.values():\n",
        "        test_data.pop(stop, None)\n",
        "print(test_data)"
      ],
      "execution_count": 18,
      "outputs": [
        {
          "output_type": "stream",
          "name": "stdout",
          "text": [
            "Bioloji': [[194], 1], 'növlərin': [[194], 1], 'sistematikası': [[194], 1], 'Mediaviki': [[194], 1], 'proqram': [[194], 1], 'təminatının': [[194], 1], 'təkmilləşdirilməsi': [[194], 1], 'Vikiverilənlər': [[194], 1], 'Ortaq': [[194], 2], 'verilənlər': [[194], 1], 'bazası': [[194], 1], 'Vikianbar': [[194], 1], 'anbarı': [[194], 1], 'Vikisəyahət': [[194], 1], 'səyahət': [[194], 1], 'təlimatçası': [[194], 1], 'koordinasiya': [[194], 1], 'mərkəzi': [[194], 1], 'Türkdilli': [[194], 1], 'Vikipediyalar': [[194], 1], 'Mənbə': [[194], 1], 'Naviqasiya': [[194], 1], 'menyusu': [[194], 1], 'Alətlər': [[194], 2], 'sandığı': [[194], 1], 'Adlar': [[194], 1], 'fəzası': [[194], 1], 'Variantlar': [[194], 1], 'Görünüş': [[194], 1], 'çox': [[194], 1], 'Axtar': [[194], 1], 'Bələdçi': [[194], 1], 'Layihələr': [[194], 1], 'Xüsusi': [[194], 1], 'Çap': [[194], 1], 'etixrac': [[194], 1], 'layihələrdə': [[194], 1], 'Başqa': [[194], 1], 'dillərdə': [[194], 1], 'آنا': [[195], 1], 'صفحه': [[195], 1], 'آچیق': [[195], 2], 'بیلیک\\u200cلیک\\u200cدن': [[195], 1], 'هامی\\u200cنین': [[195], 1], 'دَییشدیره': [[195], 1], 'بیله\\u200cجگی': [[195], 1], 'بیر': [[195], 5], '؛': [[195], 1], 'هفته\\u200cنین': [[195], 1], 'سئچیلمیش': [[195], 2], 'مقاله\\u200cسی': [[195], 1], 'بیلیم': [[195], 2], 'علم': [[195], 2], 'یا': [[195], 1], 'علم،': [[195], 1], 'فیزیکی': [[195], 1], 'طبیعی': [[195], 1], 'کایناتین': [[195], 2], 'قورولوشونون': [[195], 1], 'داورانیشلارینین': [[195], 1], 'تجروبه': [[195], 1], 'موشاهیده\\u200cلر': [[195], 1], 'واسیطه\\u200cسیله': [[195], 1], 'سیستماتیک': [[195], 1], 'شکیلده': [[195], 1], 'آراشدیریلماسینی': [[195], 1], 'ده': [[195], 1], 'ایحاطه': [[195], 1], 'ائدن': [[195], 1], 'اینتللکتوال': [[195], 1], 'ذهنی': [[195], 1], 'پراکتیک': [[195], 1], 'عملیایشلر': [[195], 1], 'بوتونو': [[195], 1], 'علم؛': [[195], 1], 'سبب،': [[195], 1], 'ماراق': [[195], 1], 'مقصد': [[195], 1], 'بسله\\u200cین': [[195], 1], 'فاکت': [[195], 1], 'اولاراق': [[195], 2], 'گۆنوموزه': [[195], 1], 'قدر': [[195], 1], 'چوْخ': [[195], 1], 'آلت': [[195], 1], 'دالا': [[195], 1], 'بؤلونموش،': [[195], 1], 'اینسانلارین': [[195], 1], 'داها': [[195], 2], 'یاخشی': [[195], 1], 'حیات': [[195], 1], 'شرطلرینه': [[195], 1], 'قوْووشماسینا،': [[195], 1], 'وار': [[195], 1], 'اولمایان': [[195], 1], 'فاکتلاری': [[195], 1], 'تاپماسینا': [[195], 1], 'یئنی': [[195], 1], 'شئیلر': [[195], 1], 'اؤیرنمه\\u200cسینه': [[195], 1], 'اؤن': [[195], 1], 'آیاق': [[195], 1], 'اوْلموشدور': [[195], 1], 'بوتون': [[195], 1], 'ساحه\\u200cلری': [[195], 1], 'حیصه\\u200cسینی': [[195], 1], 'اؤزونه': [[195], 1], 'مؤوضوع': [[195], 1], 'سئچیر،': [[195], 1], 'تجروبی': [[195], 1], 'اوصوللارا': [[195], 1], 'حقیقته': [[195], 1], 'سؤیکنه\\u200cرک': [[195], 1], 'قانونلار': [[195], 1], 'چیخارماغا': [[195], 1], 'چالیشیر': [[195], 1], 'قالانین': [[195], 1], 'اوْخو': [[195], 1], 'تاریخ\\u200cده': [[195], 1], 'بوگون': [[195], 1], 'بۇگۆن': [[195], 1], '۲۲': [[195], 1], 'ویکی\\u200cپدیایا': [[195], 1], 'گؤره': [[195], 1], 'ویکی\\u200cپدیانین': [[195], 1], 'لوْقوسو': [[195], 1], 'جی': [[195], 1], 'ایلین': [[195], 1], 'اوّللریندن': [[195], 1], 'بۇ': [[195], 1], 'یانا': [[195], 1], 'ویکی\\u200cپدیاداکی': [[195], 1], 'ایشلدن': [[195], 1], 'سایی': [[195], 1], 'دۇرمادان': [[195], 1], 'آرتیر': [[195], 1], 'هر': [[195], 1], 'گئچن': [[195], 1], 'گۆن': [[195], 1], 'چوخ': [[195], 1], 'آدلیملیق': [[195], 1], 'قازانیر': [[195], 1], 'بیلیرسینیزمی؟': [[195], 1], 'ویکی\\u200cپديا': [[195], 1], 'مقاله\\u200cلریندن': [[195], 1], 'میرزا': [[195], 1], 'محمود': [[195], 1], 'اصولی': [[195], 1], 'عکس': [[195], 1], 'موضوعلار': [[195], 1], 'کؤک': [[195], 1], 'علملر': [[195], 3], 'تطبیقی': [[195], 1], 'اینسانی': [[195], 1], 'مدنیّت': [[195], 1], 'هۆنر': [[195], 1], 'پوْرتال\\u200cلار': [[195], 1], 'قارداش': [[195], 1], 'پروژه\\u200cلر': [[195], 1], 'ویکی\\u200cآنبار': [[195], 1], 'مدیاویکی': [[195], 1], 'باش\\u200cویکی': [[195], 1], 'ویکی\\u200cقایناق': [[195], 1], 'ویکی\\u200cسؤزلوک': [[195], 1], 'ویکی\\u200cسؤز': [[195], 1], 'ویکی\\u200cخبر': [[195], 1], 'ویکی\\u200cکیتاب': [[195], 1], 'ویکی\\u200cنوْوع': [[195], 1], 'ویکی\\u200cبیلیم\\u200cیورد': [[195], 1], 'ویکی\\u200cدولانما': [[195], 1], 'ویکی\\u200cدئیتا': [[195], 1], 'تورک': [[195], 2], 'دیللی\\u200cلر': [[195], 1], 'تۆرک': [[195], 1], 'دیللی': [[195], 2], 'آیری': [[195], 3], 'دیللرده': [[195], 1], '»دن': [[195], 1], 'آلینمیش\\u200cدیر': [[195], 1], 'دوْلانماق': [[195], 2], 'مِنوسو': [[195], 1], 'آراجلار': [[195], 1], 'آد': [[195], 1], 'فضالاری': [[195], 1], 'دئییش\\u200cلر': [[195], 1], 'گؤرونوشلر': [[195], 1], 'آختار': [[195], 1], 'آلتلر': [[195], 1], 'چاپ': [[195], 1], 'ائتائشیگه': [[195], 1], 'چیخارت': [[195], 1], 'پروژه\\u200cلرده': [[195], 1], 'دیل\\u200cلرده': [[195], 1], 'Баш': [[196], 1], 'бит': [[196], 1], 'ирекле': [[196], 1], 'мәғлүмәте': [[196], 1], 'Башҡорт': [[196], 1], '300ләп': [[196], 1], 'телдәге': [[196], 1], 'һәр': [[196], 1], 'кем': [[196], 1], 'Яңы': [[196], 2], 'Әүҙем': [[196], 1], 'порталдар': [[196], 1], 'күренекле': [[196], 1], 'сәйәсмән': [[196], 1], 'һәм': [[196], 2], 'дәүләт': [[196], 1], 'эшмәкәре': [[196], 1], 'Әхмәтзәки': [[196], 1], 'Вәлиди': [[196], 1], '1890': [[196], 1], 'йылдың': [[196], 7], 'декабрендә': [[196], 1], 'йылда': [[196], 1], 'социалреволюционерҙар': [[196], 1], 'эсерҙар': [[196], 1], 'партияһына': [[196], 1], 'инә': [[196], 1], 'Шул': [[196], 1], 'уҡ': [[196], 1], 'март\\xa0—': [[196], 1], 'апрелендә': [[196], 2], 'Рəсəй': [[196], 1], 'мосолмандарының': [[196], 1], 'ваҡытлы': [[196], 1], 'үҙəк': [[196], 1], 'бюроһы': [[196], 1], 'ағзаһы': [[196], 1], 'була': [[196], 1], '20—27': [[196], 1], 'июлендә': [[196], 1], 'ноябрендә': [[196], 1], 'Өфө': [[196], 1], 'губернаһының': [[196], 1], 'федералист': [[196], 1], 'башҡорттар': [[196], 1], 'исемлеге': [[196], 1], 'буйынса': [[196], 1], 'июненән': [[196], 1], 'алып': [[196], 1], 'февраленә': [[196], 1], 'тиклем': [[196], 1], 'Ваҡытлы': [[196], 1], 'Себер': [[196], 1], 'хөкүмəте': [[196], 1], '↪': [[196], 2], 'дауамы…': [[196], 2], 'ҡаңны': [[196], 1], 'Телдәре': [[196], 1], 'Ҡаңлы': [[196], 1], 'ҡәбиләһенең': [[196], 1], 'барлыҡҡа': [[196], 1], 'килеүен': [[196], 1], 'боронғо': [[196], 1], 'Туран': [[196], 1], 'халҡы': [[196], 1], 'менән': [[196], 1], 'бәйләйҙәр': [[196], 1], 'улар': [[196], 1], 'актик': [[196], 1], 'иртә': [[196], 1], 'урта': [[196], 1], 'быуаттарҙа': [[196], 1], '«Хвадайнамаг»': [[196], 1], '«Хоҙайнамә»': [[196], 1], 'зороастрий': [[196], 1], 'яҙмаларында': [[196], 1], '«Денкард»': [[196], 1], '«Бундахишн»': [[196], 1], 'Урта': [[196], 1], 'быуат': [[196], 1], 'ҡаңлылары': [[196], 1], '«Сокровенное': [[196], 1], 'сказание»ла\\xa0—': [[196], 1], 'канглин': [[196], 1], 'Ҡаңлылар': [[196], 1], 'Хәҙерге': [[196], 1], 'ваҡытта': [[196], 1], 'ҡәбиләнең': [[196], 1], 'аҫаба': [[196], 1], 'биләмәләренә': [[196], 1], 'Һуңғы': [[196], 3], 'сифатлы': [[196], 1], 'мәҡәлә': [[196], 2], 'һайланған': [[196], 2], 'исемлек': [[196], 1], 'Аҙна': [[196], 1], 'рәсеме': [[196], 1], 'Бөгөн': [[196], 1], '♦': [[196], 1], 'Кисәге': [[196], 1], 'апрель': [[196], 1], 'юбилярҙары': [[196], 1], 'Ҡыҙыҡ': [[196], 1], 'мәғлүмәт': [[196], 1], 'Каруан': [[196], 1], 'юлы': [[196], 1], 'Проекттар': [[196], 1], 'йыл': [[196], 1], 'проекттары': [[196], 1], 'ВикипедияБелешмә': [[196], 1], 'Ирекле': [[196], 1], 'тема': [[196], 1], '―――――――――――――――――――――': [[196], 1], 'Шәхси': [[196], 1], 'ҡоралдар': [[196], 1], 'Исем': [[196], 1], 'арауыҡтары': [[196], 1], 'Ҡарауҙар': [[196], 1], 'Тағы': [[196], 1], 'Эҙләү': [[196], 1], 'Төп': [[196], 1], 'йүнәлештәр': [[196], 1], 'Мәҡәләләр': [[196], 1], 'Ҡатнашыу': [[196], 1], 'Ҡоралдар': [[196], 1], 'Баҫтырырғасығарырға': [[196], 1], 'Башҡа': [[196], 2], 'проекттарҙа': [[196], 1], 'телдәрҙә': [[196], 1], 'Kaca': [[197], 1], 'Saking': [[197], 1], 'Wraspati': [[197], 1], '2235': [[197], 1], 'Rahajeng': [[197], 1], 'Rauh': [[197], 1], 'ring': [[197], 4], 'Énsiklopédi': [[197], 1], 'bébas': [[197], 1], 'sané': [[197], 7], 'nganggén': [[197], 4], 'basa': [[197], 5], 'Napi': [[197], 1], 'nika': [[197], 1], 'Nyuratang': [[197], 1], 'suratan': [[197], 1], 'anyar': [[197], 2], 'puniki': [[197], 5], 'wantah': [[197], 2], 'silih': [[197], 1], 'tunggil': [[197], 1], 'proyék': [[197], 4], 'mitra': [[197], 1], 'kriya': [[197], 1], 'ageng': [[197], 1], 'santukan': [[197], 1], 'makasami': [[197], 2], 'daging': [[197], 1], 'wentén': [[197], 1], 'énsiklopédi': [[197], 1], 'kasurat': [[197], 3], 'sakancan': [[197], 1], 'miwah': [[197], 4], 'kauah': [[197], 1], 'olih': [[197], 2], 'parajanané': [[197], 2], 'Nika': [[197], 1], 'mawinan': [[197], 1], 'sameton': [[197], 1], 'prasida': [[197], 3], 'ngalimbakang': [[197], 1], 'kaweruhan': [[197], 1], 'kadruwénang': [[197], 1], 'Gegambaran': [[197], 1], 'indik': [[197], 1], 'Napiké': [[197], 1], 'ragané': [[197], 1], 'mabasa': [[197], 1], 'ngrereh': [[197], 1], 'suratansuratan': [[197], 1], 'sakadi': [[197], 1], 'Ngiring': [[197], 1], 'sarengsareng': [[197], 1], 'ngartiang': [[197], 1], 'suratané': [[197], 1], 'salanturnyané': [[197], 1], 'Proyék': [[197], 2], 'Tiosan': [[197], 1], 'Nasional': [[197], 1], 'Daérah': [[197], 2], 'Wénten': [[197], 1], 'makudangkudang': [[197], 2], 'paribasa': [[197], 1], 'guminé': [[197], 1], 'tur': [[197], 1], 'nutur': [[197], 1], 'punika': [[197], 1], 'Ring': [[197], 3], 'sor': [[197], 1], 'soroh': [[197], 1], 'sampun': [[197], 2], 'kasayagayang': [[197], 1], 'akéh': [[197], 1], 'madué': [[197], 1], 'Liyané': [[197], 1], 'Pupulan': [[197], 3], 'Orti': [[197], 1], 'pustaka': [[197], 1], 'aktivitas': [[197], 1], 'papelajahan': [[197], 1], 'malancaran': [[197], 1], 'Kapolihang': [[197], 1], 'saking': [[197], 1], 'Pekakas': [[197], 1], 'praragan': [[197], 1], 'Genah': [[197], 1], 'aran': [[197], 1], 'Pakantenan': [[197], 1], 'Lianan': [[197], 1], 'Rereh': [[197], 1], 'Piranti': [[197], 1], 'Cétakéspor': [[197], 1], 'lianan': [[197], 2], 'WikipediaHoamseitn': [[198], 1], 'Aus': [[198], 1], 'Boarische': [[198], 5], 'AustroBavarian': [[198], 1], 'Servus': [[198], 1], 'Bienvenue': [[198], 1], 'Boarischn': [[198], 1], 'mid': [[198], 1], 'Des': [[198], 1], 'beriga': [[198], 1], 'Artike': [[198], 2], 'Bufotes': [[198], 1], 'viridis': [[198], 3], 'greane': [[198], 2], 'Krod': [[198], 1], 'Bufonidae': [[198], 1], 'Täu': [[198], 1], 'Eiropa': [[198], 1], 'Vuadarasien': [[198], 1], 'dahaam': [[198], 1], 'kummt': [[198], 1], 'meist': [[198], 1], 'offane': [[198], 1], 'Laundschoftn': [[198], 1], 'vua': [[198], 1], 'wia': [[198], 1], 'Fööda': [[198], 1], 'Steppm': [[198], 1], 'Meglichaeweis': [[198], 1], 'haundlt': [[198], 1], 'Wechslkrod': [[198], 1], 'Komplex': [[198], 1], 'meahrare': [[198], 1], 'nauh': [[198], 1], 'vawaundte': [[198], 1], 'Oartn': [[198], 1], 'Ois': [[198], 1], 'Synomyme': [[198], 1], 'fian': [[198], 1], 'wissonschoftlichn': [[198], 1], 'Nauman': [[198], 1], 'findt': [[198], 1], 'mar': [[198], 1], 'aa': [[198], 1], 'Bufo': [[198], 1], 'Pseudepidalea': [[198], 1], 'Aum': [[198], 1], 'auffölligstn': [[198], 1], 'Foab': [[198], 1], 'vom': [[198], 3], 'Bugl': [[198], 1], 'höön': [[198], 1], 'weißlatn': [[198], 1], 'odar': [[198], 1], 'braunan': [[198], 1], 'Grund': [[198], 1], 'san': [[198], 1], 'Fleggn': [[198], 1], 'driwagschtrad': [[198], 1], 'Zweng': [[198], 1], 'schaun': [[198], 1], 'Viecha': [[198], 1], 'obmat': [[198], 1], 'gscheckat': [[198], 1], 'ois': [[198], 1], 'wiar': [[198], 1], 'Tarngwandl': [[198], 1], 'Mülitär': [[198], 1], 'Ostöstareichisch': [[198], 1], 'Hosd': [[198], 1], 'scho': [[198], 1], 'gwisst': [[198], 1], 'berigs': [[198], 1], 'Buidl': [[198], 1], 'Capra': [[198], 1], 'ibex': [[198], 1], 'oda': [[198], 1], 'Gmoana': [[198], 1], 'Stoabock': [[198], 1], 'Stoagoass': [[198], 1], 'Suacha': [[198], 1], 'Pfinzda': [[198], 1], 'Aprui': [[198], 1], 'KW': [[198], 1], 'Spruch': [[198], 2], 'Beidl': [[198], 1], 'Briidschn': [[198], 1], 'Gejd': [[198], 1], 'regiad': [[198], 1], 'Wejd': [[198], 1], 'Sex': [[198], 1], 'Geld': [[198], 1], 'regieren': [[198], 1], 'Welt': [[198], 1], 'Boarisch\\xa0': [[198], 1], 'Breissisch': [[198], 1], 'Leidln': [[198], 1], 'vawendts': [[198], 1], 'wieda': [[198], 1], 'meara': [[198], 1], 'echt': [[198], 1], 'Weata': [[198], 1], 'Schwung': [[198], 1], 'ham': [[198], 1], 'Kroft': [[198], 1], 'guadn': [[198], 1], 'Klang': [[198], 1], 'Desmoi': [[198], 1], 'Standardboarisch': [[198], 1], 'Tragekorb': [[198], 1], 'AudioVideo': [[198], 1], 'Infos': [[198], 1], 'MERKUR': [[198], 1], 'iwad': [[198], 1], 'Wissnschoft': [[198], 1], 'TZ': [[198], 1], 'Artiken': [[198], 1], 'iba': [[198, 200], 2], 'Stickln': [[198], 1], 'Nestroy': [[198], 1], 'Hauptseitn': [[198], 1], 'Boarischa': [[198], 2], 'Literatua': [[198], 1], 'Biacharei': [[198], 1], 'Boarisches': [[198], 1], 'Weatabuach': [[198], 1], 'Nochrichtn': [[198], 1], 'Vh': [[198], 1], 'Mei': [[198], 1], 'Weakzeig': [[198], 1], 'Namasram': [[198], 1], 'Variantn': [[198], 1], 'Osichtn': [[198], 1], 'Suach': [[198], 1], 'Gmoa': [[198], 1], 'Sunstigs': [[198], 1], 'Druckaexportian': [[198], 1], 'Andane': [[198], 1], 'Sprochn': [[198], 1], 'Pėrms': [[199], 1], 'poslapis': [[199], 2], 'ėš': [[199], 3], 'Vikipedėjės': [[199], 1], 'encikluopedėjės': [[199], 1], 'žemaitėškā': [[199], 1], '1449': [[199], 1], 'Svēkė': [[199], 1], 'atvīkė̄': [[199], 1], 'Vikipedėjė': [[199], 3], 'encikluopedėjė': [[199], 1], 'katra': [[199], 1], 'gal': [[199], 1], 'pildītė': [[199], 1], 'kuožnos': [[199], 1], 'nuorontis': [[199], 1], 'Nūrauduonavė̄': [[199], 1], 'kleva': [[199], 1], 'lapā': [[199], 1], 'Tas': [[199], 1], 'ī': [[199], 2], 'tuokis': [[199], 1], 'čiesos': [[199], 1], 'kūmet': [[199], 1], 'gomtuo': [[199], 1], 'vėskos': [[199], 1], 'ėm': [[199], 1], 'nīktė': [[199], 1], 'pūtė': [[199], 1], 'posrotolie': [[199], 1], 'kalenduorėnis': [[199], 1], 'rodou': [[199], 2], 'laikuoma': [[199], 1], 'būn': [[199], 4], 'Klėmatuoluogā': [[199], 1], 'skaita': [[199], 1], 'tūmet': [[199], 1], 'cieluos': [[199], 1], 'paruos': [[199], 1], 'vėdotėnė': [[199], 1], 'uora': [[199], 1], 'temperatūra': [[199], 2], 'nukrint': [[199], 1], 'žemiau': [[199], 1], '°C': [[199], 3], 'ė': [[199], 6], 'tēsias': [[199], 1], '25–3': [[199], 1], 'mienesius': [[199], 1], 'Pėrmuojė': [[199], 1], 'rodėnė': [[199], 2], 'dalės': [[199], 2], 'sakuoma': [[199], 1], '„auksėnis': [[199], 1], 'rodou“': [[199], 1], 'Tūmet': [[199], 2], 'laikas': [[199], 1], 'vėrš': [[199], 1], 'tonkē': [[199], 1], 'mediu': [[199], 1], 'Kažkor': [[199], 1], 'tās': [[199], 1], 'spalė': [[199], 1], 'ontruo': [[199], 1], 'pusie': [[199], 1], 'aple': [[199], 2], 'dėina': [[199], 1], 'prasided': [[199], 1], 'tretiuojė': [[199], 1], 'prīšžėimis': [[199], 1], 'uors': [[199], 1], 'basošīl': [[199], 1], 'lėg': [[199], 1], 'pastuovē': [[199], 1], 'dargana': [[199], 1], 'pasiruod': [[199], 1], 'pėrms': [[199], 1], 'Rodeni': [[199], 1], 'ėšskrent': [[199], 1], 'pėitus': [[199], 1], 'vėsi': [[199], 1], 'mėgroujotis': [[199], 1], 'paukštē': [[199], 1], 'Mienesė': [[199], 1], 'ėnėcētīva': [[199], 1], 'Diemesė': [[199], 1], 'ėšrėnkta': [[199], 1], 'nauja': [[199], 1], 'ėnėcetīva': [[199], 2], 'Diel': [[199], 1], 'tuo': [[199], 1], 'dabartėnė': [[199], 1], 'ligė': [[199], 1], 'ėšrėnkėma': [[199], 1], 'īr': [[199], 1], 'Tamsta': [[199], 1], 'esat': [[199], 1], 'labā': [[199], 1], 'kvėitams': [[199], 1], 'siūlītė': [[199], 1], 'ana': [[199], 1], 'Pruojekta': [[199], 1], 'Kvėitam': [[199], 1], 'balsoutė': [[199], 1], 'Senāsā': [[199], 1], 'kels': [[199], 1], 'Mažeikiu': [[199], 1], 'Vėikšnius': [[199], 1], 'Torėnīs': [[199], 1], 'Mens': [[199], 1], 'koltūra': [[199], 1], 'puoilsis': [[199], 1], 'Puolitėka': [[199], 1], 'vėsuomenė': [[199], 1], 'Viera': [[199], 1], 'mituologėjė': [[199], 1], 'Tikslė̅jė': [[199], 1], 'muokslā': [[199], 2], 'Kėtė': [[199], 2], 'Indostrėjė': [[199], 1], 'Ivairė': [[199], 1], 'Paėiška': [[199], 1], 'Prisėdiejėms': [[199], 1], 'bėndruomenė': [[199], 1], 'WikiMedėjės': [[199], 1], 'pruojektā': [[199], 2], 'Vikimedėjē': [[199], 1], 'priklausa': [[199], 1], 'vėn': [[199], 1], 'vuo': [[199], 1], 'kėtė': [[199], 1], 'Vikižuodīns': [[199], 1], 'Liousos': [[199], 1], 'žuodīns': [[199], 1], 'Vikicėtatas': [[199], 1], 'Pasakīmā': [[199], 1], 'cėtatas': [[199], 1], 'Vikinaujīnas': [[199], 1], 'Naujausės': [[199], 1], 'žėnės': [[199], 1], 'naujīnas': [[199], 1], 'Vikišaltėnē': [[199], 1], 'Vairūs': [[199], 1], 'tekstā': [[199], 1], 'Vikikningas': [[199], 1], 'Vaduovielē': [[199], 1], 'kningas': [[199], 1], 'Vikirūšis': [[199], 1], 'Rūšiu': [[199], 1], 'katalogs': [[199], 1], 'Vikimedėjės': [[199], 1], 'pruojektu': [[199], 1], 'valdīms': [[199], 1], 'Baltu': [[199], 1], 'kalbū': [[199], 1], 'vikipedėjės': [[199], 1], 'Vikipedija': [[199], 2], 'Vikipedeja': [[199], 1], 'Gautė': [[199], 1], 'Naršīma': [[199], 1], 'pasirinkėmā': [[199], 1], 'Asabėnē': [[199], 1], 'rakondā': [[199], 1], 'Vardū': [[199], 1], 'srėtis': [[199], 1], 'Atmainā': [[199], 1], 'Parveizė̄jėmā': [[199], 1], 'Ėiškuotė': [[199], 1], 'Naršīms': [[199], 1], 'Rakondā': [[199], 1], 'ĖšgoldītėEksportoutė': [[199], 1], 'Kėtūs': [[199], 1], 'tinklapiūs': [[199], 1], 'Kėtuom': [[199], 1], 'kalbuom': [[199], 1], 'Panginot': [[200], 1], 'Pahina': [[200], 1], 'Gikan': [[200], 2], 'Bikol': [[200], 1], 'Sentral': [[200], 1], 'talingkas': [[200], 4], 'ensiklopedya': [[200], 3], 'Dagos': [[200], 1], 'tabì': [[200], 1], 'maliliwat': [[200], 1], 'nin': [[200], 5], 'siisay': [[200], 1], 'Igwa': [[200], 1], '2242': [[200], 1], 'bàgo': [[200], 1], 'Napiling': [[200], 2], 'artikulo': [[200], 2], 'Mariano': [[200], 1], 'Perfecto': [[200], 3], 'iyo': [[200], 2], 'ika5ng': [[200], 1], 'alagad': [[200], 1], 'nasabing': [[200], 1], 'probinsya': [[200], 1], 'saro': [[200], 2], 'Camarines': [[200], 1], 'Norte': [[200], 1], 'asin': [[200], 7], 'inapod': [[200], 1], 'minimidbid': [[200], 1], 'Ama': [[200], 2], 'sagkod': [[200], 1], 'Literaturang': [[200], 1], 'Kagmuknâ': [[200], 1], 'siya': [[200], 1], 'peryodikong': [[200], 1], 'namundág': [[200], 1], 'Siya': [[200], 1], 'sarô': [[200], 1], 'negosyante': [[200], 1], 'Kan': [[200], 1], '1877': [[200], 1], 'tinogdas': [[200], 1], 'niya': [[200], 1], 'imprentahan': [[200], 1], 'Panayana': [[200], 1], 'Mandurriao': [[200], 1], 'Iloilo': [[200], 1], 'Iba': [[200], 1], 'pang': [[200], 4], 'marhayrahay': [[200], 1], 'mga': [[200], 13], 'ladawan': [[200], 4], 'Dakol': [[200], 3], 'hali': [[200], 3], 'partisipante': [[200], 3], 'Simbahan': [[200], 1], 'Tumauini': [[200], 1], 'Bicol': [[200], 1], 'Indian': [[200], 1], 'Sikh': [[200], 1], 'Temple': [[200], 1], 'Aram': [[200], 1], 'nindo': [[200], 1], '゛': [[200], 1], '゜': [[200], 1], 'Mga': [[200], 10], 'kategorya': [[200], 1], 'katakod': [[200], 2], 'proyekto': [[200], 4], 'Wikipedya': [[200], 2], 'Talingkas': [[200], 1], 'Wiksyunaryo': [[200], 1], 'Diksyunaryo': [[200], 1], 'Wikilibro': [[200], 1], 'Libreng': [[200], 4], 'Librongteksto': [[200], 1], 'manuwal': [[200], 1], 'Wikibareta': [[200], 1], 'nilalaman': [[200], 2], 'bareta': [[200], 1], 'Wikigunuan': [[200], 1], 'libraryo': [[200], 1], 'Koleksyon': [[200], 1], 'quotation': [[200], 1], 'Direktoryo': [[200], 1], 'Pigheheras': [[200], 1], 'repositoryong': [[200], 1], 'medya': [[200], 1], 'Wikibersidad': [[200], 1], 'materyales': [[200], 1], 'pagkanood': [[200], 1], 'aktibidades': [[200], 1], 'Sa': [[200], 4], 'aldaw': [[200], 2], 'huring': [[200], 1], 'Abril': [[200], 1], 'proyektong': [[200], 1], 'sarong': [[200], 1], 'organisasyon': [[200], 1], 'nagpapadalagan': [[200], 1], 'nagkapirang': [[200], 1], 'multilinggwal': [[200], 1], 'laog': [[200], 1], 'kabali': [[200], 1], 'nangagin': [[200], 1], 'pinakabantog': [[200], 1], 'websityo': [[200], 1], 'kinaban': [[200], 1], 'minasunod': [[200], 1], 'ipigpapabantog': [[200], 1], 'ipigpapaurog': [[200], 1], 'komunidad': [[200], 1], 'Pinaghugot': [[200], 1], 'gikan': [[200], 1], 'Hihilngan': [[200], 1], 'paglibotlibot': [[200], 1], 'Pansadiring': [[200], 1], 'gamiton': [[200], 2], 'espasyong': [[200], 1], 'ngaran': [[200], 1], 'Kinalaenan': [[200], 1], 'pagtànaw': [[200], 1], 'Kadugangan': [[200], 1], 'Maghanap': [[200], 1], 'Paglibotlibot': [[200], 1], 'ImprintahonIpagpaluwas': [[200], 1], 'ibang': [[200], 2], 'lengguwahetataramon': [[200], 1]}\n"
          ]
        }
      ]
    },
    {
      "cell_type": "markdown",
      "metadata": {
        "id": "CEoxNVHqRry2"
      },
      "source": [
        "## 4. Lưu trữ và biểu diễn dữ liệu\n",
        "Sử dụng pickle lưu lại data với tên file raw_data.\n",
        "### 4.1 Cơ sở dữ liệu giao tác:\n",
        "Thông thường, các cơ sở dữ liệu giao tác được lưu trong flat files (các tập phẳng) thay vì trong một hệ cơ sở dữ liệu. Các item là các số nguyên không âm, mỗi giao tác tương ứng với một dòng các số nguyên phân tách nhau bằng khoảng trắng.\n",
        "Ví dụ:\n",
        "\n",
        "0 1 2 3 4 5 6 7 8 9 10 11 12 13 14 15 16 17 18 19 20 21 22 23 24 25 26 27 28 29 \n",
        "\n",
        "30 31 32 \n",
        "\n",
        "33 34 35 \n",
        "\n",
        "36 37 38 39 40 41 42 43 44 45 46 \n",
        "\n",
        "38 39 47 48 \n",
        "\n",
        "38 39 48 49 50 51 52 53 54 55 56 57 58 \n",
        "\n",
        "32 41 59 60 61 62 \n",
        "\n",
        "3 39 48 \n",
        "\n",
        "63 64 65 66 67 68 \n",
        "\n",
        "32 69 \n",
        "\n",
        "48 70 71 72 \n",
        "\n",
        "39 73 74 75 76 77 78 79 \n",
        "\n",
        "36 38 39 41 48 79 80 81 \n",
        "\n",
        "82 83 84 \n",
        "\n",
        "41 85 86 87 88 \n",
        "\n",
        "39 48 89 90 91 92 93 94 95 96 97 98 99 100 101 \n",
        "\n",
        "36 38 39 48 89 \n",
        "\n",
        "39 41 102 103 104 105 106 107 108 \n",
        "\n",
        "38 39 41 109 110 \n",
        "\n",
        "39 111 112 113 114 115 116 117 118 \n",
        "\n",
        "119 120 121 122 123 124 125 126 127 128 129 130 131 132 133 \n",
        "\n",
        "48 134 135 136 \n",
        "\n",
        "39 48 137 138 139 140 141 142 143 144 145 146 147 148 149 \n",
        "\n",
        "39 150 151 152 \n",
        "\n",
        "38 39 56 153 154 155 "
      ]
    },
    {
      "cell_type": "code",
      "metadata": {
        "id": "4l--TVLEoN7R"
      },
      "source": [
        "# with open('raw_data', 'wb') as f:\n",
        "#     # TODO\n",
        "def save_object(obj, file_name):\n",
        "    with open(file_name, 'wb') as output:  # Overwrites any existing file.\n",
        "        pickle.dump(obj, output, pickle.HIGHEST_PROTOCOL)\n",
        "save_object(test_data, \"raw_data\")"
      ],
      "execution_count": 19,
      "outputs": []
    },
    {
      "cell_type": "markdown",
      "metadata": {
        "id": "QvUgw0VkRry3"
      },
      "source": [
        "### 4.2 Xuất dataset\n",
        "Lưu một cơ sở dữ liệu giao tác (transactional database) vào file t_data.txt: \n",
        "- Các item tương ứng với url_idx\n",
        "- Mỗi transaction tương ứng với một từ."
      ]
    },
    {
      "cell_type": "code",
      "metadata": {
        "id": "ZorK46LdSCfi"
      },
      "source": [
        "with open('t_data.txt', 'w') as f:\n",
        "    for word, (url_list, freq) in data.items():\n",
        "        print(*url_list, file=f)"
      ],
      "execution_count": 1,
      "outputs": [
        {
          "output_type": "error",
          "ename": "NameError",
          "evalue": "name 'data' is not defined",
          "traceback": [
            "\u001b[0;31m---------------------------------------------------------------------------\u001b[0m",
            "\u001b[0;31mNameError\u001b[0m                                 Traceback (most recent call last)",
            "\u001b[0;32m<ipython-input-1-2067da56b40f>\u001b[0m in \u001b[0;36m<module>\u001b[0;34m\u001b[0m\n\u001b[1;32m      1\u001b[0m \u001b[0;32mwith\u001b[0m \u001b[0mopen\u001b[0m\u001b[0;34m(\u001b[0m\u001b[0;34m't_data.txt'\u001b[0m\u001b[0;34m,\u001b[0m \u001b[0;34m'w'\u001b[0m\u001b[0;34m)\u001b[0m \u001b[0;32mas\u001b[0m \u001b[0mf\u001b[0m\u001b[0;34m:\u001b[0m\u001b[0;34m\u001b[0m\u001b[0;34m\u001b[0m\u001b[0m\n\u001b[0;32m----> 2\u001b[0;31m     \u001b[0;32mfor\u001b[0m \u001b[0mword\u001b[0m\u001b[0;34m,\u001b[0m \u001b[0;34m(\u001b[0m\u001b[0murl_list\u001b[0m\u001b[0;34m,\u001b[0m \u001b[0mfreq\u001b[0m\u001b[0;34m)\u001b[0m \u001b[0;32min\u001b[0m \u001b[0mdata\u001b[0m\u001b[0;34m.\u001b[0m\u001b[0mitems\u001b[0m\u001b[0;34m(\u001b[0m\u001b[0;34m)\u001b[0m\u001b[0;34m:\u001b[0m\u001b[0;34m\u001b[0m\u001b[0;34m\u001b[0m\u001b[0m\n\u001b[0m\u001b[1;32m      3\u001b[0m         \u001b[0mprint\u001b[0m\u001b[0;34m(\u001b[0m\u001b[0;34m*\u001b[0m\u001b[0murl_list\u001b[0m\u001b[0;34m,\u001b[0m \u001b[0mfile\u001b[0m\u001b[0;34m=\u001b[0m\u001b[0mf\u001b[0m\u001b[0;34m)\u001b[0m\u001b[0;34m\u001b[0m\u001b[0;34m\u001b[0m\u001b[0m\n",
            "\u001b[0;31mNameError\u001b[0m: name 'data' is not defined"
          ]
        }
      ]
    },
    {
      "cell_type": "markdown",
      "metadata": {
        "id": "2OXVFoHiRry3"
      },
      "source": [
        "## 5. Truy vấn and, or, not\n",
        "Ví dụ: \n",
        "- Truy vấn `and` câu `web mining`: trả về đường dẫn tới các trang web có cả 2 từ web và từ mining. \n",
        "- Truy vấn `or` câu `web mining`: trả về đường dẫn tới các trang web có từ web hoặc từ mining.\n",
        "- Truy vấn `not` câu `web mining`: trả về đường dẫn tới các trang không có cả từ web và từ mining.\n",
        "\n",
        "*GỢI Ý: TÁCH CÂU TRUY VẤN THÀNH CÁC TỪ TƯƠNG TỰ PHƯƠNG PHÁP LÀM Ở LAB02.*"
      ]
    },
    {
      "cell_type": "code",
      "metadata": {
        "id": "sybM0yLHRry6"
      },
      "source": [
        "ret=[]\n",
        "def andRetrieval(ret, sentence):\n",
        "    '''Parameters\n",
        "    -----------------------\n",
        "    ret: url_list\n",
        "    sentence: query'''\n",
        "    # TODO\n",
        "    ### split sentence (separator ' ') into terms\n",
        "    ### find urls have all terms: urls\n",
        "    ### if len(ret)==0:  return urls\n",
        "    ### else update ret with urls: intersection of ret and urls \n",
        "\n",
        "\n",
        "def orRetrieval(ret, sentence):\n",
        "    '''Parameters\n",
        "    -----------------------\n",
        "    ret: url_list\n",
        "    sentence: query'''\n",
        "    # TODO\n",
        "    ### split sentence (separator ' ') into terms\n",
        "    ### find urls have all terms: urls\n",
        "    ### find urls have at least 1 term: urls\n",
        "    ### update ret with urls: extend ret with urls\n",
        "\n",
        "def notRetrieval(ret, sentence):\n",
        "    '''Parameters\n",
        "    -----------------------\n",
        "    ret: url_list\n",
        "    sentence: query'''\n",
        "    # TODO\n",
        "    ### split sentence (separator ' ') into terms\n",
        "    ### find urls have at least 1 term: urls\n",
        "    ### update ret with urls: remove urls from ret "
      ],
      "execution_count": null,
      "outputs": []
    },
    {
      "cell_type": "code",
      "metadata": {
        "id": "1hkp7ej3qxRQ"
      },
      "source": [
        "print(andRetrieval([], 'web mining'))\n",
        "print(orRetrieval([], 'web mining'))\n",
        "print(notRetrieval(url_list, 'web mining'))"
      ],
      "execution_count": null,
      "outputs": []
    }
  ]
}